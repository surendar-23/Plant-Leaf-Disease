{
 "cells": [
  {
   "attachments": {},
   "cell_type": "markdown",
   "metadata": {},
   "source": [
    "# Import Necessary Libraries"
   ]
  },
  {
   "cell_type": "code",
   "execution_count": 1,
   "metadata": {},
   "outputs": [
    {
     "name": "stderr",
     "output_type": "stream",
     "text": [
      "2023-03-14 20:08:56.770493: I tensorflow/stream_executor/platform/default/dso_loader.cc:49] Successfully opened dynamic library libcudart.so.10.1\n"
     ]
    }
   ],
   "source": [
    "import os\n",
    "import numpy as np\n",
    "import tensorflow as tf\n",
    "from keras.preprocessing.image import ImageDataGenerator\n",
    "from keras.models import Sequential\n",
    "from keras.layers import Dense, Conv2D, MaxPooling2D, Flatten, Dropout"
   ]
  },
  {
   "attachments": {},
   "cell_type": "markdown",
   "metadata": {},
   "source": [
    "# Define constants"
   ]
  },
  {
   "cell_type": "code",
   "execution_count": 2,
   "metadata": {},
   "outputs": [],
   "source": [
    "IMAGE_SIZE = 224\n",
    "BATCH_SIZE = 32\n",
    "EPOCHS = 30\n",
    "TRAIN_DIR = 'train'\n",
    "VAL_DIR = 'valid'"
   ]
  },
  {
   "attachments": {},
   "cell_type": "markdown",
   "metadata": {},
   "source": [
    "# Define data generators for training and validation sets"
   ]
  },
  {
   "cell_type": "code",
   "execution_count": 3,
   "metadata": {},
   "outputs": [],
   "source": [
    "train_datagen = ImageDataGenerator(rescale=1./255, \n",
    "                                   rotation_range=20, \n",
    "                                   width_shift_range=0.1, \n",
    "                                   height_shift_range=0.1, \n",
    "                                   shear_range=0.1, \n",
    "                                   zoom_range=0.1, \n",
    "                                   horizontal_flip=True, \n",
    "                                   fill_mode='nearest')"
   ]
  },
  {
   "cell_type": "code",
   "execution_count": 4,
   "metadata": {},
   "outputs": [],
   "source": [
    "val_datagen = ImageDataGenerator(rescale=1./255)"
   ]
  },
  {
   "cell_type": "code",
   "execution_count": 5,
   "metadata": {},
   "outputs": [
    {
     "name": "stdout",
     "output_type": "stream",
     "text": [
      "Found 70295 images belonging to 38 classes.\n"
     ]
    }
   ],
   "source": [
    "train_generator = train_datagen.flow_from_directory(TRAIN_DIR, \n",
    "                                                    target_size=(IMAGE_SIZE, IMAGE_SIZE), \n",
    "                                                    batch_size=BATCH_SIZE, \n",
    "                                                    class_mode='categorical')"
   ]
  },
  {
   "cell_type": "code",
   "execution_count": 6,
   "metadata": {},
   "outputs": [
    {
     "name": "stdout",
     "output_type": "stream",
     "text": [
      "Found 17572 images belonging to 38 classes.\n"
     ]
    }
   ],
   "source": [
    "val_generator = val_datagen.flow_from_directory(VAL_DIR, \n",
    "                                                target_size=(IMAGE_SIZE, IMAGE_SIZE), \n",
    "                                                batch_size=BATCH_SIZE, \n",
    "                                                class_mode='categorical')"
   ]
  },
  {
   "attachments": {},
   "cell_type": "markdown",
   "metadata": {},
   "source": [
    "# Build the model"
   ]
  },
  {
   "cell_type": "code",
   "execution_count": 7,
   "metadata": {},
   "outputs": [
    {
     "name": "stderr",
     "output_type": "stream",
     "text": [
      "2023-03-14 20:09:10.559878: I tensorflow/compiler/jit/xla_cpu_device.cc:41] Not creating XLA devices, tf_xla_enable_xla_devices not set\n",
      "2023-03-14 20:09:10.565318: I tensorflow/stream_executor/platform/default/dso_loader.cc:49] Successfully opened dynamic library libcuda.so.1\n",
      "2023-03-14 20:09:10.683654: E tensorflow/stream_executor/cuda/cuda_gpu_executor.cc:927] could not open file to read NUMA node: /sys/bus/pci/devices/0000:01:00.0/numa_node\n",
      "Your kernel may have been built without NUMA support.\n",
      "2023-03-14 20:09:10.683764: I tensorflow/core/common_runtime/gpu/gpu_device.cc:1720] Found device 0 with properties: \n",
      "pciBusID: 0000:01:00.0 name: NVIDIA GeForce GTX 1650 computeCapability: 7.5\n",
      "coreClock: 1.515GHz coreCount: 14 deviceMemorySize: 4.00GiB deviceMemoryBandwidth: 178.84GiB/s\n",
      "2023-03-14 20:09:10.683812: I tensorflow/stream_executor/platform/default/dso_loader.cc:49] Successfully opened dynamic library libcudart.so.10.1\n",
      "2023-03-14 20:09:10.701074: I tensorflow/stream_executor/platform/default/dso_loader.cc:49] Successfully opened dynamic library libcublas.so.10\n",
      "2023-03-14 20:09:10.701214: I tensorflow/stream_executor/platform/default/dso_loader.cc:49] Successfully opened dynamic library libcublasLt.so.10\n",
      "2023-03-14 20:09:10.720196: I tensorflow/stream_executor/platform/default/dso_loader.cc:49] Successfully opened dynamic library libcufft.so.10\n",
      "2023-03-14 20:09:10.723459: I tensorflow/stream_executor/platform/default/dso_loader.cc:49] Successfully opened dynamic library libcurand.so.10\n",
      "2023-03-14 20:09:10.750133: I tensorflow/stream_executor/platform/default/dso_loader.cc:49] Successfully opened dynamic library libcusolver.so.10\n",
      "2023-03-14 20:09:10.759253: I tensorflow/stream_executor/platform/default/dso_loader.cc:49] Successfully opened dynamic library libcusparse.so.10\n",
      "2023-03-14 20:09:10.804164: I tensorflow/stream_executor/platform/default/dso_loader.cc:49] Successfully opened dynamic library libcudnn.so.7\n",
      "2023-03-14 20:09:10.804422: E tensorflow/stream_executor/cuda/cuda_gpu_executor.cc:927] could not open file to read NUMA node: /sys/bus/pci/devices/0000:01:00.0/numa_node\n",
      "Your kernel may have been built without NUMA support.\n",
      "2023-03-14 20:09:10.804472: E tensorflow/stream_executor/cuda/cuda_gpu_executor.cc:927] could not open file to read NUMA node: /sys/bus/pci/devices/0000:01:00.0/numa_node\n",
      "Your kernel may have been built without NUMA support.\n",
      "2023-03-14 20:09:10.804516: I tensorflow/core/common_runtime/gpu/gpu_device.cc:1862] Adding visible gpu devices: 0\n",
      "2023-03-14 20:09:10.805534: I tensorflow/core/platform/cpu_feature_guard.cc:142] This TensorFlow binary is optimized with oneAPI Deep Neural Network Library (oneDNN) to use the following CPU instructions in performance-critical operations:  SSE4.1 SSE4.2 AVX AVX2 FMA\n",
      "To enable them in other operations, rebuild TensorFlow with the appropriate compiler flags.\n",
      "2023-03-14 20:09:10.809284: I tensorflow/compiler/jit/xla_gpu_device.cc:99] Not creating XLA devices, tf_xla_enable_xla_devices not set\n",
      "2023-03-14 20:09:10.809616: E tensorflow/stream_executor/cuda/cuda_gpu_executor.cc:927] could not open file to read NUMA node: /sys/bus/pci/devices/0000:01:00.0/numa_node\n",
      "Your kernel may have been built without NUMA support.\n",
      "2023-03-14 20:09:10.809648: I tensorflow/core/common_runtime/gpu/gpu_device.cc:1720] Found device 0 with properties: \n",
      "pciBusID: 0000:01:00.0 name: NVIDIA GeForce GTX 1650 computeCapability: 7.5\n",
      "coreClock: 1.515GHz coreCount: 14 deviceMemorySize: 4.00GiB deviceMemoryBandwidth: 178.84GiB/s\n",
      "2023-03-14 20:09:10.809676: I tensorflow/stream_executor/platform/default/dso_loader.cc:49] Successfully opened dynamic library libcudart.so.10.1\n",
      "2023-03-14 20:09:10.809700: I tensorflow/stream_executor/platform/default/dso_loader.cc:49] Successfully opened dynamic library libcublas.so.10\n",
      "2023-03-14 20:09:10.809710: I tensorflow/stream_executor/platform/default/dso_loader.cc:49] Successfully opened dynamic library libcublasLt.so.10\n",
      "2023-03-14 20:09:10.809718: I tensorflow/stream_executor/platform/default/dso_loader.cc:49] Successfully opened dynamic library libcufft.so.10\n",
      "2023-03-14 20:09:10.809727: I tensorflow/stream_executor/platform/default/dso_loader.cc:49] Successfully opened dynamic library libcurand.so.10\n",
      "2023-03-14 20:09:10.809773: I tensorflow/stream_executor/platform/default/dso_loader.cc:49] Successfully opened dynamic library libcusolver.so.10\n",
      "2023-03-14 20:09:10.809790: I tensorflow/stream_executor/platform/default/dso_loader.cc:49] Successfully opened dynamic library libcusparse.so.10\n",
      "2023-03-14 20:09:10.809799: I tensorflow/stream_executor/platform/default/dso_loader.cc:49] Successfully opened dynamic library libcudnn.so.7\n",
      "2023-03-14 20:09:10.809848: E tensorflow/stream_executor/cuda/cuda_gpu_executor.cc:927] could not open file to read NUMA node: /sys/bus/pci/devices/0000:01:00.0/numa_node\n",
      "Your kernel may have been built without NUMA support.\n",
      "2023-03-14 20:09:10.809880: E tensorflow/stream_executor/cuda/cuda_gpu_executor.cc:927] could not open file to read NUMA node: /sys/bus/pci/devices/0000:01:00.0/numa_node\n",
      "Your kernel may have been built without NUMA support.\n",
      "2023-03-14 20:09:10.809888: I tensorflow/core/common_runtime/gpu/gpu_device.cc:1862] Adding visible gpu devices: 0\n",
      "2023-03-14 20:09:10.809989: I tensorflow/stream_executor/platform/default/dso_loader.cc:49] Successfully opened dynamic library libcudart.so.10.1\n",
      "2023-03-14 20:09:13.798958: I tensorflow/core/common_runtime/gpu/gpu_device.cc:1261] Device interconnect StreamExecutor with strength 1 edge matrix:\n",
      "2023-03-14 20:09:13.798994: I tensorflow/core/common_runtime/gpu/gpu_device.cc:1267]      0 \n",
      "2023-03-14 20:09:13.799024: I tensorflow/core/common_runtime/gpu/gpu_device.cc:1280] 0:   N \n",
      "2023-03-14 20:09:13.799484: E tensorflow/stream_executor/cuda/cuda_gpu_executor.cc:927] could not open file to read NUMA node: /sys/bus/pci/devices/0000:01:00.0/numa_node\n",
      "Your kernel may have been built without NUMA support.\n",
      "2023-03-14 20:09:13.799503: I tensorflow/core/common_runtime/gpu/gpu_device.cc:1489] Could not identify NUMA node of platform GPU id 0, defaulting to 0.  Your kernel may not have been built with NUMA support.\n",
      "2023-03-14 20:09:13.799546: E tensorflow/stream_executor/cuda/cuda_gpu_executor.cc:927] could not open file to read NUMA node: /sys/bus/pci/devices/0000:01:00.0/numa_node\n",
      "Your kernel may have been built without NUMA support.\n",
      "2023-03-14 20:09:13.799621: E tensorflow/stream_executor/cuda/cuda_gpu_executor.cc:927] could not open file to read NUMA node: /sys/bus/pci/devices/0000:01:00.0/numa_node\n",
      "Your kernel may have been built without NUMA support.\n",
      "2023-03-14 20:09:13.799678: I tensorflow/core/common_runtime/gpu/gpu_device.cc:1406] Created TensorFlow device (/job:localhost/replica:0/task:0/device:GPU:0 with 2863 MB memory) -> physical GPU (device: 0, name: NVIDIA GeForce GTX 1650, pci bus id: 0000:01:00.0, compute capability: 7.5)\n"
     ]
    }
   ],
   "source": [
    "model = Sequential()\n",
    "model.add(Conv2D(32, (3, 3), activation='relu', input_shape=(IMAGE_SIZE, IMAGE_SIZE, 3)))\n",
    "model.add(MaxPooling2D((2, 2)))\n",
    "model.add(Conv2D(64, (3, 3), activation='relu'))\n",
    "model.add(MaxPooling2D((2, 2)))\n",
    "model.add(Conv2D(128, (3, 3), activation='relu'))\n",
    "model.add(MaxPooling2D((2, 2)))\n",
    "model.add(Conv2D(256, (3, 3), activation='relu'))\n",
    "model.add(MaxPooling2D((2, 2)))\n",
    "model.add(Flatten())\n",
    "model.add(Dense(512, activation='relu'))\n",
    "model.add(Dropout(0.5))\n",
    "model.add(Dense(38, activation='softmax'))"
   ]
  },
  {
   "attachments": {},
   "cell_type": "markdown",
   "metadata": {},
   "source": [
    "# Compile the model"
   ]
  },
  {
   "cell_type": "code",
   "execution_count": 8,
   "metadata": {},
   "outputs": [],
   "source": [
    "model.compile(optimizer='adam', loss='categorical_crossentropy', metrics=['accuracy'])"
   ]
  },
  {
   "attachments": {},
   "cell_type": "markdown",
   "metadata": {},
   "source": [
    "# Train the model"
   ]
  },
  {
   "cell_type": "code",
   "execution_count": 9,
   "metadata": {},
   "outputs": [],
   "source": [
    "from keras.callbacks import ModelCheckpoint, EarlyStopping\n",
    "es = EarlyStopping(monitor='val_accuracy', min_delta=0.01, patience=50, verbose=1)\n",
    "mc = ModelCheckpoint(filepath=\"model.h5\",\n",
    "                     monitor= 'val_accuracy',\n",
    "                     min_delta= 0.01,\n",
    "                     patience=50,\n",
    "                     verbose=1,\n",
    "                     save_best_only= True)\n",
    "cb = [es,mc]"
   ]
  },
  {
   "cell_type": "code",
   "execution_count": 10,
   "metadata": {},
   "outputs": [],
   "source": [
    "from keras.models import load_model\n",
    "new_model = load_model(\"model.h5\")"
   ]
  },
  {
   "cell_type": "code",
   "execution_count": 11,
   "metadata": {},
   "outputs": [
    {
     "name": "stderr",
     "output_type": "stream",
     "text": [
      "2023-03-14 20:10:11.947963: I tensorflow/compiler/mlir/mlir_graph_optimization_pass.cc:116] None of the MLIR optimization passes are enabled (registered 2)\n",
      "2023-03-14 20:10:11.948364: I tensorflow/core/platform/profile_utils/cpu_utils.cc:112] CPU Frequency: 2994285000 Hz\n"
     ]
    },
    {
     "name": "stdout",
     "output_type": "stream",
     "text": [
      "Epoch 1/10\n"
     ]
    },
    {
     "name": "stderr",
     "output_type": "stream",
     "text": [
      "2023-03-14 20:10:12.203722: I tensorflow/stream_executor/platform/default/dso_loader.cc:49] Successfully opened dynamic library libcublas.so.10\n",
      "2023-03-14 20:10:12.605546: I tensorflow/stream_executor/platform/default/dso_loader.cc:49] Successfully opened dynamic library libcudnn.so.7\n"
     ]
    },
    {
     "name": "stdout",
     "output_type": "stream",
     "text": [
      "2197/2197 [==============================] - 617s 279ms/step - loss: 0.1712 - accuracy: 0.9583 - val_loss: 0.1846 - val_accuracy: 0.9549\n",
      "\n",
      "Epoch 00001: val_accuracy improved from -inf to 0.95493, saving model to 2new_model.h5\n",
      "Epoch 2/10\n",
      "2197/2197 [==============================] - 584s 266ms/step - loss: 0.1678 - accuracy: 0.9606 - val_loss: 0.2419 - val_accuracy: 0.9419\n",
      "\n",
      "Epoch 00002: val_accuracy did not improve from 0.95493\n",
      "Epoch 3/10\n",
      "2197/2197 [==============================] - 557s 253ms/step - loss: 0.1527 - accuracy: 0.9621 - val_loss: 0.1125 - val_accuracy: 0.9709\n",
      "\n",
      "Epoch 00003: val_accuracy improved from 0.95493 to 0.97092, saving model to 2new_model.h5\n",
      "Epoch 4/10\n",
      "2197/2197 [==============================] - 555s 253ms/step - loss: 0.1762 - accuracy: 0.9578 - val_loss: 0.0746 - val_accuracy: 0.9843\n",
      "\n",
      "Epoch 00004: val_accuracy improved from 0.97092 to 0.98429, saving model to 2new_model.h5\n",
      "Epoch 5/10\n",
      "2197/2197 [==============================] - 551s 251ms/step - loss: 0.1730 - accuracy: 0.9582 - val_loss: 0.1518 - val_accuracy: 0.9675\n",
      "\n",
      "Epoch 00005: val_accuracy did not improve from 0.98429\n",
      "Epoch 6/10\n",
      "2197/2197 [==============================] - 555s 253ms/step - loss: 0.1725 - accuracy: 0.9578 - val_loss: 0.0783 - val_accuracy: 0.9817\n",
      "\n",
      "Epoch 00006: val_accuracy did not improve from 0.98429\n",
      "Epoch 7/10\n",
      "2197/2197 [==============================] - 558s 254ms/step - loss: 0.1805 - accuracy: 0.9562 - val_loss: 0.0754 - val_accuracy: 0.9804\n",
      "\n",
      "Epoch 00007: val_accuracy did not improve from 0.98429\n",
      "Epoch 8/10\n",
      "2197/2197 [==============================] - 572s 260ms/step - loss: 0.1634 - accuracy: 0.9600 - val_loss: 0.0857 - val_accuracy: 0.9792\n",
      "\n",
      "Epoch 00008: val_accuracy did not improve from 0.98429\n",
      "Epoch 9/10\n",
      "2197/2197 [==============================] - 553s 252ms/step - loss: 0.1746 - accuracy: 0.9581 - val_loss: 0.1897 - val_accuracy: 0.9602\n",
      "\n",
      "Epoch 00009: val_accuracy did not improve from 0.98429\n",
      "Epoch 10/10\n",
      "2197/2197 [==============================] - 562s 256ms/step - loss: 0.1648 - accuracy: 0.9605 - val_loss: 0.1273 - val_accuracy: 0.9740\n",
      "\n",
      "Epoch 00010: val_accuracy did not improve from 0.98429\n"
     ]
    }
   ],
   "source": [
    "history = new_model.fit(train_generator, \n",
    "                    steps_per_epoch=len(train_generator), \n",
    "                    epochs=10,\n",
    "                    verbose=1,\n",
    "                    callbacks=cb,\n",
    "                    validation_data=val_generator,\n",
    "                    validation_steps=len(val_generator))"
   ]
  },
  {
   "cell_type": "code",
   "execution_count": 12,
   "metadata": {},
   "outputs": [],
   "source": [
    "new_model.save('model.h5')"
   ]
  },
  {
   "cell_type": "code",
   "execution_count": 13,
   "metadata": {},
   "outputs": [
    {
     "data": {
      "text/plain": [
       "dict_keys(['loss', 'accuracy', 'val_loss', 'val_accuracy'])"
      ]
     },
     "execution_count": 13,
     "metadata": {},
     "output_type": "execute_result"
    }
   ],
   "source": [
    "h = history.history\n",
    "h.keys()"
   ]
  },
  {
   "cell_type": "code",
   "execution_count": 14,
   "metadata": {},
   "outputs": [
    {
     "data": {
      "image/png": "[encoded data removed]",
      "text/plain": [
       "<Figure size 640x480 with 1 Axes>"
      ]
     },
     "metadata": {},
     "output_type": "display_data"
    }
   ],
   "source": [
    "import matplotlib.pyplot as plt\n",
    "plt.plot(h['accuracy'])\n",
    "plt.plot(h['val_accuracy'], c = \"red\")\n",
    "plt.title(\"acc vs v-acc\")\n",
    "plt.show()"
   ]
  },
  {
   "cell_type": "code",
   "execution_count": 15,
   "metadata": {},
   "outputs": [
    {
     "data": {
      "image/png": "[encoded data removed]",
      "text/plain": [
       "<Figure size 640x480 with 1 Axes>"
      ]
     },
     "metadata": {},
     "output_type": "display_data"
    }
   ],
   "source": [
    "plt.plot(h['loss'])\n",
    "plt.plot(h['val_loss'], c = \"red\")\n",
    "plt.title(\"loss vs v-loss\")\n",
    "plt.show()"
   ]
  },
  {
   "cell_type": "code",
   "execution_count": 16,
   "metadata": {},
   "outputs": [
    {
     "data": {
      "text/plain": [
       "{0: 'Apple___Apple_scab',\n",
       " 1: 'Apple___Black_rot',\n",
       " 2: 'Apple___Cedar_apple_rust',\n",
       " 3: 'Apple___healthy',\n",
       " 4: 'Blueberry___healthy',\n",
       " 5: 'Cherry_(including_sour)___Powdery_mildew',\n",
       " 6: 'Cherry_(including_sour)___healthy',\n",
       " 7: 'Corn_(maize)___Cercospora_leaf_spot Gray_leaf_spot',\n",
       " 8: 'Corn_(maize)___Common_rust_',\n",
       " 9: 'Corn_(maize)___Northern_Leaf_Blight',\n",
       " 10: 'Corn_(maize)___healthy',\n",
       " 11: 'Grape___Black_rot',\n",
       " 12: 'Grape___Esca_(Black_Measles)',\n",
       " 13: 'Grape___Leaf_blight_(Isariopsis_Leaf_Spot)',\n",
       " 14: 'Grape___healthy',\n",
       " 15: 'Orange___Haunglongbing_(Citrus_greening)',\n",
       " 16: 'Peach___Bacterial_spot',\n",
       " 17: 'Peach___healthy',\n",
       " 18: 'Pepper,_bell___Bacterial_spot',\n",
       " 19: 'Pepper,_bell___healthy',\n",
       " 20: 'Potato___Early_blight',\n",
       " 21: 'Potato___Late_blight',\n",
       " 22: 'Potato___healthy',\n",
       " 23: 'Raspberry___healthy',\n",
       " 24: 'Soybean___healthy',\n",
       " 25: 'Squash___Powdery_mildew',\n",
       " 26: 'Strawberry___Leaf_scorch',\n",
       " 27: 'Strawberry___healthy',\n",
       " 28: 'Tomato___Bacterial_spot',\n",
       " 29: 'Tomato___Early_blight',\n",
       " 30: 'Tomato___Late_blight',\n",
       " 31: 'Tomato___Leaf_Mold',\n",
       " 32: 'Tomato___Septoria_leaf_spot',\n",
       " 33: 'Tomato___Spider_mites Two-spotted_spider_mite',\n",
       " 34: 'Tomato___Target_Spot',\n",
       " 35: 'Tomato___Tomato_Yellow_Leaf_Curl_Virus',\n",
       " 36: 'Tomato___Tomato_mosaic_virus',\n",
       " 37: 'Tomato___healthy'}"
      ]
     },
     "execution_count": 16,
     "metadata": {},
     "output_type": "execute_result"
    }
   ],
   "source": [
    "dict(zip(list(train_generator.class_indices.values()),list(train_generator.class_indices.keys())))"
   ]
  },
  {
   "cell_type": "code",
   "execution_count": 17,
   "metadata": {},
   "outputs": [],
   "source": [
    "ref = dict(zip( list(train_generator.class_indices.values()), list(train_generator.class_indices.keys()) ))"
   ]
  },
  {
   "cell_type": "code",
   "execution_count": 18,
   "metadata": {},
   "outputs": [],
   "source": [
    "def prediction(path):\n",
    "\n",
    "  img = load_img(path, target_size= (224,224))\n",
    "\n",
    "  i = img_to_array(img)\n",
    "\n",
    "  im = preprocess_input(i)\n",
    "\n",
    "  img = np.expand_dims(im, axis= 0)\n",
    "  \n",
    "  pred = np.argmax(model.predict(img))\n",
    "\n",
    "  print(f\" the image belongs to {ref[pred] }\")"
   ]
  },
  {
   "cell_type": "code",
   "execution_count": 26,
   "metadata": {},
   "outputs": [
    {
     "name": "stdout",
     "output_type": "stream",
     "text": [
      " the image belongs to Blueberry___healthy\n"
     ]
    }
   ],
   "source": [
    "from keras.applications.imagenet_utils import preprocess_input\n",
    "from tensorflow.keras.preprocessing.image import load_img\n",
    "from keras.preprocessing.image import img_to_array\n",
    "path = \"test/\"\n",
    "prediction(path)"
   ]
  }
 ],
 "metadata": {
  "kernelspec": {
   "display_name": "ML_env",
   "language": "python",
   "name": "ml_env"
  },
  "language_info": {
   "codemirror_mode": {
    "name": "ipython",
    "version": 3
   },
   "file_extension": ".py",
   "mimetype": "text/x-python",
   "name": "python",
   "nbconvert_exporter": "python",
   "pygments_lexer": "ipython3",
   "version": "3.9.16"
  },
  "vscode": {
   "interpreter": {
    "hash": "bd54c536b7a78f5df519729adc009d1bb32a977ff340d9d6797336d1edb99b6b"
   }
  }
 },
 "nbformat": 4,
 "nbformat_minor": 2
}
